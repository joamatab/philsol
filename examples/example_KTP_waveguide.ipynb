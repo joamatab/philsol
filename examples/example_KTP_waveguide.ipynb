{
 "cells": [
  {
   "cell_type": "markdown",
   "metadata": {},
   "source": [
    "# KTP Waveguide dispersion\n",
    "\n",
    "This example shows how to sweep the dispersion of a generic waveguide. To do this we need to feed the solver some dispersion as a function of \n",
    " $\\lambda$ using smelmers equation. \n",
    " \n",
    "The constants for the equation can be found here:\n",
    "http://www.unitedcrystals.com/KTPProp.html\n",
    "\n",
    "Remember KTP has a different refractive index for each axis which needs to be passed to the solver."
   ]
  },
  {
   "cell_type": "code",
   "execution_count": null,
   "metadata": {
    "jupyter": {
     "outputs_hidden": false
    }
   },
   "outputs": [],
   "source": [
    "def refractive(lam):\n",
    "    n_square = [ 3.0065 + 0.03901 / (lam**2 - 0.04251) - 0.01327 * lam**2 , \n",
    "                 3.0333 + 0.04154 / (lam**2 - 0.04547) - 0.01408 * lam**2 , \n",
    "                 3.0065 + 0.05694 / (lam**2 - 0.05658) - 0.01682 * lam**2   ]\n",
    "    \n",
    "    index = [ns**0.5 for ns in n_square]\n",
    "    return index"
   ]
  },
  {
   "cell_type": "markdown",
   "metadata": {},
   "source": [
    "## Build geometry\n",
    "To build the geometry you can use your choice of graphics library (or just brute force it): this example uses pillow.   \n"
   ]
  },
  {
   "cell_type": "code",
   "execution_count": null,
   "metadata": {
    "jupyter": {
     "outputs_hidden": false
    }
   },
   "outputs": [],
   "source": [
    "%matplotlib inline\n",
    "\n",
    "import philsol as ps\n",
    "import numpy as np\n",
    "import matplotlib.pyplot as plt\n",
    "import scipy.constants as cst\n",
    "from matplotlib import cm \n",
    "from PIL import Image, ImageDraw\n",
    "\n",
    "\n",
    "# We define the size of the simulation window (note there is automatically a conductive boundry layer).\n",
    "simulation_width = 10.\n",
    "simulation_height = 9. \n",
    "\n",
    "# Number of pixels/fd grid points. \n",
    "num_x = 81\n",
    "num_y = 101\n",
    "dx = simulation_width / float(num_x - 1)\n",
    "dy = simulation_height / float(num_y - 1)\n",
    "\n",
    "# Wavelength of end point\n",
    "lam = .3\n",
    "k = 2 * cst.pi / lam \n",
    "\n",
    "# We deffine some parameters of the waveguide(refer to the plot if confused!)\n",
    "air_height = 1. \n",
    "WG_height = 6.\n",
    "WG_width = 4.\n",
    "\n",
    "#...lets build a geometry...#\n",
    "# note: using pillow might seem a bit convoluted but for more complex geometries it saves a lot of pain\n",
    "def n_build(lam):    \n",
    "    # we start with a KTP slab\n",
    "    n_ax = refractive(lam)\n",
    "    n_ax = [n_ax[1], n_ax[2], n_ax[0]]\n",
    "    geom = [Image.new('F', (num_x, num_y), n_ax[i]) for i in range(3)]\n",
    "    geom_draw = [ImageDraw.Draw(axis) for axis in geom]\n",
    "\n",
    "    # now we need some air\n",
    "    air_index = int(round((simulation_height - air_height) / dy))  \n",
    "    [ axis.rectangle([0, air_index, num_x - 1, num_y - 1], 1.) \n",
    "       for axis in geom_draw ]\n",
    "\n",
    "    # Now we draw the waveguide with a slightly larger intex\n",
    "    x0_ind = int(round((simulation_width - WG_width) / (2. * dx)))\n",
    "    x1_ind = int(round((simulation_width + WG_width) / (2. * dx)))\n",
    "    y0_ind = int(round((simulation_height - air_height - WG_height) / dy )) \n",
    "    y1_ind = air_index - 1\n",
    "\n",
    "    [geom_draw[i].rectangle([x0_ind, y0_ind, x1_ind, y1_ind], n_ax[i] + 0.01)  \n",
    "       for i in range(3) ]\n",
    "    \n",
    "    #Now we assemble a matrix we can give to the solver \n",
    "    n =  np.dstack( \n",
    "           [np.asarray(axis.getdata(), dtype = np.float64).reshape((num_y, num_x))\n",
    "              for axis in geom]\n",
    "                  )\n",
    "    return n\n",
    "\n",
    "x = np.linspace(-simulation_width / 2., simulation_width / 2., num_x)\n",
    "y = np.linspace(air_height - simulation_height, air_height, num_y)\n",
    "n = n_build(lam)\n",
    "\n",
    "plt.pcolor(x,y,n[:,:,1], cmap = cm.Blues_r)\n",
    "plt.clim([2.1, 2.2])\n",
    "plt.colorbar()\n"
   ]
  },
  {
   "cell_type": "markdown",
   "metadata": {},
   "source": [
    "## Build the eigenproblem"
   ]
  },
  {
   "cell_type": "code",
   "execution_count": null,
   "metadata": {
    "jupyter": {
     "outputs_hidden": false
    }
   },
   "outputs": [],
   "source": [
    "#n = np.ones((num_x, num_y, 3))\n",
    "#n[19:49, 19:49, :] = n[19:49, 19:49, :] + 0.45\n",
    "print(refractive(lam))\n",
    "\n",
    "P, _ = ps.eigen_build(k, n, dy, dx)"
   ]
  },
  {
   "cell_type": "markdown",
   "metadata": {},
   "source": [
    "## Solve for the fundamental modes"
   ]
  },
  {
   "cell_type": "code",
   "execution_count": null,
   "metadata": {
    "jupyter": {
     "outputs_hidden": false
    }
   },
   "outputs": [],
   "source": [
    "neff = 2.5\n",
    "neigs = 10\n",
    "beta_in = 2. * cst.pi * neff / lam \n",
    "\n",
    "beta, Ex, Ey = ps.solve.solve(P, beta_in, neigs = neigs)\n",
    "\n",
    "print(np.shape(Ey))\n",
    "Ex_fields = [np.reshape(E_vec, (num_x, num_y)) for E_vec in Ex] \n",
    "Ey_fields = [np.reshape(E_vec, (num_x, num_y)) for E_vec in Ey] "
   ]
  },
  {
   "cell_type": "markdown",
   "metadata": {},
   "source": [
    "## Plot the modes\n",
    "Now we can plot these modes. Since the refractive index is bigger on the y axis these modes will have higher index we can plot these out. "
   ]
  },
  {
   "cell_type": "code",
   "execution_count": null,
   "metadata": {
    "jupyter": {
     "outputs_hidden": false
    }
   },
   "outputs": [],
   "source": [
    "n_levels = 6  # Number of contour levels to use in plots\n",
    "\n",
    "for i in range(neigs): # For each eigenvalue\n",
    "    # Create a figure\n",
    "    plt.figure()\n",
    "    \n",
    "    print('Effective Index = {}'.format(abs(beta[i] * lam / (2*cst.pi))))\n",
    "    \n",
    "    plt.pcolor(x,y,n[:,:,1], cmap = cm.Blues_r)\n",
    "    plt.clim([2.1, 2.2])\n",
    "    \n",
    "    # Start a plot, find the contour levels, remove the zero level, replot without zero level\n",
    "    plot_matrix = np.transpose(Ey_fields[i].real)\n",
    "    levels = np.linspace(np.min(plot_matrix), np.max(plot_matrix), n_levels+2)\n",
    "    c_plt = plt.contour(x, y, plot_matrix, cmap = cm.inferno, levels=levels)\n",
    "\n",
    "    plt.show()"
   ]
  },
  {
   "cell_type": "markdown",
   "metadata": {},
   "source": [
    "## Sweeping dispersion of beta, for a particular selected mode\n",
    "Ok now we can pick a mode and sweep it over some range. This is a problem because the solver (like most solvers) requires a good guess for beta. \n",
    "To get round this we can run the above code for the wavelengths at either end of our range and fit a simple function such as and exponential to it. It might be nessary to solve for more modes than we need and post process the result. Let solve for the dispersion over the range $0.3\\mu m$ to $1.\\mu m$   \n",
    "\n",
    "### Sweeping for a set of modes, including the one you're interested in\n",
    "Ensure that the mode you're interested in will be included in the set you're solving for!"
   ]
  },
  {
   "cell_type": "code",
   "execution_count": null,
   "metadata": {
    "jupyter": {
     "outputs_hidden": false
    }
   },
   "outputs": [],
   "source": [
    "def n_guide(lam):\n",
    "    A = 2.17954368571 \n",
    "    B = np.log(2.17954368571 / 1.75292972992) / 0.7\n",
    "    return A * np.exp(- B * (lam - 0.3))\n",
    "\n",
    "steps = 5\n",
    "neigs = 5\n",
    "lams = np.linspace(0.3, 1., steps)\n",
    "n_trial = n_guide(lams)\n",
    "\n",
    "#Hopefully we can give it a bit more gas by passing a trial field \n",
    "E_in = np.concatenate((Ex[0], Ey[0]))\n",
    "    \n",
    "# Now we have a go sweeping \n",
    "beta_out = []\n",
    "Ey_plot = []\n",
    "Ex_plot = []\n",
    "\n",
    "for i in range(steps):\n",
    "    n = n_build(lams[i])\n",
    "    k = 2. * cst.pi / lams[i] \n",
    "    P, _ = ps.eigen_build(k, n, dy, dx)\n",
    "    \n",
    "    # TODO: Fix complex casting warning\n",
    "    beta, Ex , Ey = ps.solve.solve(   P, \n",
    "                                      2. * n_trial[i] * cst.pi / lams[i], \n",
    "                                      E_trial = E_in,  \n",
    "                                      neigs = neigs  )\n",
    "    \n",
    "    Ey_plot.append([np.reshape(E_vec, (num_x, num_y)) for E_vec in Ey])\n",
    "    Ex_plot.append([np.reshape(E_vec, (num_x, num_y)) for E_vec in Ex])\n",
    "    beta_out.append(beta)\n"
   ]
  },
  {
   "cell_type": "markdown",
   "metadata": {},
   "source": [
    "### Post-processing, and selecting the desired mode\n",
    "Ok so some of the modes will have changed position during the run so we need to do some post processing **to keep track of the index of the mode we are interested in.**\n",
    "\n",
    "This works because of the orthogonality of the eigenmodes."
   ]
  },
  {
   "cell_type": "code",
   "execution_count": null,
   "metadata": {
    "jupyter": {
     "outputs_hidden": false
    }
   },
   "outputs": [],
   "source": [
    "index = 0  # Select starting mode\n",
    "\n",
    "# Initialise sweep trace arrays\n",
    "beta_trace = [beta_out[0][index]]\n",
    "Ey_plot_trace = [Ey_plot[0][index]]\n",
    "Ex_plot_trace = [Ex_plot[0][index]]\n",
    "\n",
    "E_trace = []  # New reordering method. WIP\n",
    "\n",
    "# Plot selected mode for testing\n",
    "plt.figure()\n",
    "xend = np.size(x)\n",
    "yend = np.size(y)\n",
    "plt.pcolor(x, y, np.transpose(Ey_plot_trace[0].real), cmap = cm.inferno)\n",
    "plt.title(\"Initial selected mode\")\n",
    "plt.show()\n",
    "\n",
    "# Do sweep\n",
    "indices = []  # Create an array to log the original position of the fundamental (just used for debugging)\n",
    "for i in range(steps-1):\n",
    "    # Takes product of all modes with all next modes the largest value should be the same mode!    \n",
    "    prod_next = abs(np.einsum('kij, lij', Ey_plot[i], Ey_plot[i + 1]))\n",
    "    \n",
    "    E_trace.append(np.einsum('kij, kl', Ey_plot[i], prod_next))  # New reordering method. WIP\n",
    "    \n",
    "    index = np.argmax(prod_next[index, :])\n",
    "    indices.append(index)  # Append the index, for debugging\n",
    "    \n",
    "    beta_trace.append(beta_out[i+1][index])\n",
    "    Ey_plot_trace.append(Ey_plot[i+1][index])\n",
    "    Ex_plot_trace.append(Ex_plot[i+1][index])\n",
    "    \n",
    "print(indices)  # Show indices, for debugging\n",
    "    \n",
    "# Now we can plot the dispersion and e field\n",
    "plt.figure()\n",
    "plt.plot(lams, np.real(beta_trace))\n",
    "plt.xlabel('$\\lambda / \\mu m$')\n",
    "plt.ylabel(r'$\\beta [ \\mu m^{-1} ]$')\n",
    "plt.title(\"Structure dispersion\")\n",
    "plt.plot()\n",
    "plt.show()\n",
    "\n",
    "# Finally plot the mode at some sweep position 'some_random_point', for testing\n",
    "plt.figure()\n",
    "some_random_point = -1  # Last value in sweep\n",
    "xend = np.size(x)\n",
    "yend = np.size(y)\n",
    "plt.pcolor(x, y, np.transpose(Ey_plot_trace[some_random_point].real), cmap = cm.inferno)\n",
    "plt.title(\"Selected mode\")\n",
    "plt.show()"
   ]
  },
  {
   "cell_type": "code",
   "execution_count": null,
   "metadata": {
    "jupyter": {
     "outputs_hidden": false
    }
   },
   "outputs": [],
   "source": [
    "# Now you can save your data if you feel so inclined\n",
    "\n",
    "import pickle \n",
    "from time import strftime\n",
    "\n",
    "strftime(\"%d%b%Y_%H%M\")\n",
    "Array_pack = {\n",
    "    #'Ex_polar': [betaEx_trace, Ex_plot_trace], \n",
    "    'Ey_polar': [betaEy_trace, Ey_plot_trace],\n",
    "    'width'   : WG_width,\n",
    "    'height'  : WG_height,\n",
    "    'Lambda'  : lams   }\n",
    "\n",
    "\n",
    "pickle.dump(Array_pack, open('KTP_dispersion_' +strftime(\"%d%b%Y_%H%M\") + '.p', 'wb'))"
   ]
  },
  {
   "cell_type": "code",
   "execution_count": null,
   "metadata": {},
   "outputs": [],
   "source": []
  }
 ],
 "metadata": {
  "kernelspec": {
   "display_name": "Python 3",
   "language": "python",
   "name": "python3"
  },
  "language_info": {
   "codemirror_mode": {
    "name": "ipython",
    "version": 3
   },
   "file_extension": ".py",
   "mimetype": "text/x-python",
   "name": "python",
   "nbconvert_exporter": "python",
   "pygments_lexer": "ipython3",
   "version": "3.8.3"
  },
  "varInspector": {
   "cols": {
    "lenName": 16,
    "lenType": 16,
    "lenVar": 40
   },
   "kernels_config": {
    "python": {
     "delete_cmd_postfix": "",
     "delete_cmd_prefix": "del ",
     "library": "var_list.py",
     "varRefreshCmd": "print(var_dic_list())"
    },
    "r": {
     "delete_cmd_postfix": ") ",
     "delete_cmd_prefix": "rm(",
     "library": "var_list.r",
     "varRefreshCmd": "cat(var_dic_list()) "
    }
   },
   "types_to_exclude": [
    "module",
    "function",
    "builtin_function_or_method",
    "instance",
    "_Feature"
   ],
   "window_display": false
  }
 },
 "nbformat": 4,
 "nbformat_minor": 4
}
