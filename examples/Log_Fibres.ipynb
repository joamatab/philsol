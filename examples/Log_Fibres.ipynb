{
 "cells": [
  {
   "cell_type": "markdown",
   "metadata": {},
   "source": [
    "# Graded  Index Logarithmic Fibres \n",
    "\n",
    "Graded index fibres can easily be simulated with philsol. There are lots of different types of graded index fibres but one with particularly interesting properties is the logarithmic fibre. \n",
    "\n",
    "For more info see the paper by Harrington et al. \n",
    "\n",
    "https://www.osapublishing.org/optica/abstract.cfm?uri=optica-4-12-1526\n",
    "\n",
    "\n",
    "Rather than constructing a waveguide with a step-like refractive index, light is confined by a potential which is changing with a contineous radial function given:\n",
    "$$\n",
    "n^2(r) = n_0^2 - NA^2 ln(\\frac{r}{\\rho})\n",
    "$$\n",
    "where NA is the numerical aperture, n0 is the refractive index at infinte radius and $\\rho$ defines the steepness of the refractive index profile. Such a profile is fairly streight foward to impliment. "
   ]
  },
  {
   "cell_type": "code",
   "execution_count": null,
   "metadata": {},
   "outputs": [],
   "source": [
    "%matplotlib inline\n",
    "\n",
    "#import sys\n",
    "#sys.path.insert(0, '/home/phil/philsol_scripts')\n",
    "\n",
    "\n",
    "import philsol as ps\n",
    "from philsol.classy import phil_class\n",
    "#from bokeh.plotting import figure, output_file, show\n",
    "import matplotlib.pyplot as plt\n",
    "import numpy as np\n",
    "from scipy.constants import pi\n",
    "\n",
    "def n_build(rho, x, y):\n",
    "    \n",
    "    A0 = 0.01\n",
    "    n0 = 1.46\n",
    "    r0 = np.array( np.max(x) /2., np.max(y) /2.)\n",
    "    dx = r0 - x \n",
    "    dy = r0 - y\n",
    "    R = abs(dx[np.newaxis,:]**2 + dy[:,np.newaxis]**2)**.5\n",
    "    n = n0 - A0 * np.log(R / rho)\n",
    "    n[n>1.8] = 1.8\n",
    "    \n",
    "    \n",
    "    return  np.dstack([n for i in range(3)] )\n",
    "\n",
    "\n",
    "x = np.linspace(0,40,150)\n",
    "y = np.linspace(0,40,150)\n",
    "n = n_build(5., x, y)\n",
    "\n",
    "plt.pcolormesh(x,y,n[:,:,0], cmap ='Greys')\n",
    "print(n[0,0])\n",
    "plt.colorbar()\n",
    "\n",
    "\n",
    "\n",
    "lam = 1.\n",
    "neigs = 12\n",
    "dx = x[1] - x[0]\n",
    "dy = y[1] - y[0]\n",
    "\n",
    "logfibre = phil_class(n, 2.*pi / lam, dx = dx, dy = dy)\n",
    "logfibre.build_stuff(matrices = True)\n",
    "logfibre.solve_stuff(neigs, 2*pi * 2 /lam, extra_fields = True)\n",
    "\n",
    "E = np.reshape(logfibre.Ex, (logfibre.Eigs, logfibre.num_x, logfibre.num_y))\n",
    "plt.contour(logfibre.x, logfibre.y, abs(E[0,:,:].transpose()))\n",
    "\n",
    "print(logfibre.beta * lam /(2.*pi))"
   ]
  },
  {
   "cell_type": "code",
   "execution_count": null,
   "metadata": {},
   "outputs": [],
   "source": [
    "for i in range(logfibre.Eigs):\n",
    "    plt.figure()\n",
    "    plt.title(str(logfibre.beta[i] * lam / pi))\n",
    "    plt.pcolormesh(x,y,n[:,:,0], cmap ='Greys')\n",
    "    E = np.reshape(logfibre.Ex, (logfibre.Eigs, logfibre.num_x, logfibre.num_y))\n",
    "    plt.contour(logfibre.x, logfibre.y, abs(E[i,:,:].transpose()))"
   ]
  },
  {
   "cell_type": "code",
   "execution_count": null,
   "metadata": {},
   "outputs": [],
   "source": [
    "#Lets sweep the dispersion now\n",
    "\n",
    "lam_sweep = np.linspace(1.,2.,10)\n",
    "beta_sweep = []\n",
    "h_feilds = []\n",
    "e_feilds = []\n",
    "for j in range(np.size(lam_sweep)):\n",
    "    logfibre.k0 = 2.*pi / lam_sweep[j] \n",
    "    logfibre.build_stuff(matrices = True)\n",
    "    logfibre.solve_stuff(neigs, 2*pi * 1.47  / lam_sweep[j], extra_fields = True)\n",
    "    #print(logfibre.beta * lam /(2.*pi))\n",
    "    beta_sweep.append(logfibre.beta)\n",
    "    h_feilds.append(logfibre.H)\n",
    "    e_feilds.append(logfibre.E)"
   ]
  },
  {
   "cell_type": "code",
   "execution_count": null,
   "metadata": {},
   "outputs": [],
   "source": [
    "beta = np.array(beta_sweep)\n",
    "print(np.shape(beta))\n",
    "\n",
    "plt.figure()\n",
    "plt.plot(lam_sweep, beta_sweep)\n",
    "plt.xlabel('wavelength (um)')\n",
    "plt.ylabel('beta')\n",
    "\n",
    "plt.figure()\n",
    "plt.plot(lam_sweep, beta * lam_sweep[:,np.newaxis] / (2.*pi))\n",
    "plt.xlabel('wavelength (um)')\n",
    "plt.ylabel('neff')\n",
    "\n",
    "\n",
    "plt.figure()\n",
    "plt.plot(lam_sweep[:-1], np.diff(beta_sweep, axis = 0, n= 1))\n",
    "plt.xlabel('wavelength (um)')\n",
    "plt.ylabel('dneff/dwavelength')\n",
    "\n",
    "plt.figure()\n",
    "plt.plot(lam_sweep[:-2], np.diff(beta_sweep, axis = 0, n=2))\n",
    "plt.ylabel('dneff/dwavelength')\n",
    "\n"
   ]
  },
  {
   "cell_type": "code",
   "execution_count": null,
   "metadata": {},
   "outputs": [],
   "source": []
  }
 ],
 "metadata": {
  "kernelspec": {
   "display_name": "Python 3",
   "language": "python",
   "name": "python3"
  },
  "language_info": {
   "codemirror_mode": {
    "name": "ipython",
    "version": 3
   },
   "file_extension": ".py",
   "mimetype": "text/x-python",
   "name": "python",
   "nbconvert_exporter": "python",
   "pygments_lexer": "ipython3",
   "version": "3.8.3"
  }
 },
 "nbformat": 4,
 "nbformat_minor": 4
}
